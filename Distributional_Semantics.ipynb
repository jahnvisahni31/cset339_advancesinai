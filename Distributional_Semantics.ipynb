{
  "nbformat": 4,
  "nbformat_minor": 0,
  "metadata": {
    "colab": {
      "provenance": []
    },
    "kernelspec": {
      "name": "python3",
      "display_name": "Python 3"
    },
    "language_info": {
      "name": "python"
    }
  },
  "cells": [
    {
      "cell_type": "code",
      "execution_count": 1,
      "metadata": {
        "colab": {
          "base_uri": "https://localhost:8080/"
        },
        "id": "xG0cpYQNWwzL",
        "outputId": "4570e6e8-474f-43b7-9f91-29b86f4e1535"
      },
      "outputs": [
        {
          "output_type": "stream",
          "name": "stdout",
          "text": [
            "Requirement already satisfied: nltk in /usr/local/lib/python3.10/dist-packages (3.8.1)\n",
            "Requirement already satisfied: scikit-learn in /usr/local/lib/python3.10/dist-packages (1.3.2)\n",
            "Requirement already satisfied: click in /usr/local/lib/python3.10/dist-packages (from nltk) (8.1.7)\n",
            "Requirement already satisfied: joblib in /usr/local/lib/python3.10/dist-packages (from nltk) (1.4.2)\n",
            "Requirement already satisfied: regex>=2021.8.3 in /usr/local/lib/python3.10/dist-packages (from nltk) (2024.5.15)\n",
            "Requirement already satisfied: tqdm in /usr/local/lib/python3.10/dist-packages (from nltk) (4.66.5)\n",
            "Requirement already satisfied: numpy<2.0,>=1.17.3 in /usr/local/lib/python3.10/dist-packages (from scikit-learn) (1.26.4)\n",
            "Requirement already satisfied: scipy>=1.5.0 in /usr/local/lib/python3.10/dist-packages (from scikit-learn) (1.13.1)\n",
            "Requirement already satisfied: threadpoolctl>=2.0.0 in /usr/local/lib/python3.10/dist-packages (from scikit-learn) (3.5.0)\n"
          ]
        }
      ],
      "source": [
        "!pip install nltk scikit-learn"
      ]
    },
    {
      "cell_type": "code",
      "source": [
        "import nltk"
      ],
      "metadata": {
        "id": "USruaSgNYOxY"
      },
      "execution_count": 2,
      "outputs": []
    },
    {
      "cell_type": "code",
      "source": [
        "nltk.download('punkt')\n",
        "nltk.download('stopwords')"
      ],
      "metadata": {
        "colab": {
          "base_uri": "https://localhost:8080/"
        },
        "id": "net3dJBgYP6M",
        "outputId": "3336cc72-2529-44d9-d4b5-a927d454e842"
      },
      "execution_count": 3,
      "outputs": [
        {
          "output_type": "stream",
          "name": "stderr",
          "text": [
            "[nltk_data] Downloading package punkt to /root/nltk_data...\n",
            "[nltk_data]   Unzipping tokenizers/punkt.zip.\n",
            "[nltk_data] Downloading package stopwords to /root/nltk_data...\n",
            "[nltk_data]   Unzipping corpora/stopwords.zip.\n"
          ]
        },
        {
          "output_type": "execute_result",
          "data": {
            "text/plain": [
              "True"
            ]
          },
          "metadata": {},
          "execution_count": 3
        }
      ]
    },
    {
      "cell_type": "code",
      "source": [
        "import numpy as np\n",
        "import nltk\n",
        "from nltk.corpus import stopwords\n",
        "from sklearn.feature_extraction.text import TfidfVectorizer\n",
        "from sklearn.metrics.pairwise import cosine_similarity\n",
        "from nltk.tokenize import word_tokenize"
      ],
      "metadata": {
        "id": "kp3OmR_fZtRc"
      },
      "execution_count": 4,
      "outputs": []
    },
    {
      "cell_type": "code",
      "source": [
        "documents = [\n",
        "    \"The cat sat on the mat.\",\n",
        "    \"The dog sat on the log.\",\n",
        "    \"Cats and dogs are common pets.\",\n",
        "    \"Mat and log are types of surfaces.\",\n",
        "    \"Pet are animals kept by humans.\"\n",
        "]"
      ],
      "metadata": {
        "id": "XXXv1DcNZ7R6"
      },
      "execution_count": 5,
      "outputs": []
    },
    {
      "cell_type": "code",
      "source": [
        "def preprocess(text):\n",
        "  tokens = word_tokenize(text.lower())\n",
        "  tokens = [word for word in tokens if word.isalpha()]\n",
        "  stop_words = set(stopwords.words('english'))\n",
        "  tokens = [word for word in tokens if word not in stop_words]\n",
        "  return ' '.join(tokens)\n"
      ],
      "metadata": {
        "id": "AblV1AvNahrd"
      },
      "execution_count": 6,
      "outputs": []
    },
    {
      "cell_type": "code",
      "source": [
        "preprocessed_doc = [preprocess(doc) for doc in documents]"
      ],
      "metadata": {
        "id": "KkJncIKuavXm"
      },
      "execution_count": 7,
      "outputs": []
    },
    {
      "cell_type": "code",
      "source": [
        "vector = TfidfVectorizer()\n",
        "tfidf_matrix = vector.fit_transform(preprocessed_doc)"
      ],
      "metadata": {
        "id": "0syqe2A6azJt"
      },
      "execution_count": 8,
      "outputs": []
    },
    {
      "cell_type": "code",
      "source": [
        "cosine_sim = cosine_similarity(tfidf_matrix, tfidf_matrix)"
      ],
      "metadata": {
        "id": "Wav4Q2WPa369"
      },
      "execution_count": 9,
      "outputs": []
    },
    {
      "cell_type": "code",
      "source": [
        "print(\"tfidf\")\n",
        "print(tfidf_matrix.toarray())"
      ],
      "metadata": {
        "colab": {
          "base_uri": "https://localhost:8080/"
        },
        "id": "eKkVkB94bJai",
        "outputId": "19151191-45c6-4004-ec88-11e38e71c4d8"
      },
      "execution_count": 11,
      "outputs": [
        {
          "output_type": "stream",
          "name": "stdout",
          "text": [
            "tfidf\n",
            "[[0.         0.659118   0.         0.         0.         0.\n",
            "  0.         0.         0.         0.53177225 0.         0.\n",
            "  0.53177225 0.         0.        ]\n",
            " [0.         0.         0.         0.         0.659118   0.\n",
            "  0.         0.         0.53177225 0.         0.         0.\n",
            "  0.53177225 0.         0.        ]\n",
            " [0.         0.         0.5        0.5        0.         0.5\n",
            "  0.         0.         0.         0.         0.         0.5\n",
            "  0.         0.         0.        ]\n",
            " [0.         0.         0.         0.         0.         0.\n",
            "  0.         0.         0.44400208 0.44400208 0.         0.\n",
            "  0.         0.55032913 0.55032913]\n",
            " [0.5        0.         0.         0.         0.         0.\n",
            "  0.5        0.5        0.         0.         0.5        0.\n",
            "  0.         0.         0.        ]]\n"
          ]
        }
      ]
    },
    {
      "cell_type": "code",
      "source": [
        "print(\"cosine similarity\")\n",
        "print(cosine_sim)"
      ],
      "metadata": {
        "colab": {
          "base_uri": "https://localhost:8080/"
        },
        "id": "VGfEi34PbUmR",
        "outputId": "3d23b133-29e2-4574-c652-c41c80106869"
      },
      "execution_count": 12,
      "outputs": [
        {
          "output_type": "stream",
          "name": "stdout",
          "text": [
            "cosine similarity\n",
            "[[1.         0.28278173 0.         0.23610799 0.        ]\n",
            " [0.28278173 1.         0.         0.23610799 0.        ]\n",
            " [0.         0.         1.         0.         0.        ]\n",
            " [0.23610799 0.23610799 0.         1.         0.        ]\n",
            " [0.         0.         0.         0.         1.        ]]\n"
          ]
        }
      ]
    },
    {
      "cell_type": "code",
      "source": [
        "def most_similar_doc(index):\n",
        "  similarity_scores = list(enumerate(cosine_sim[index]))\n",
        "  similarity_scores = sorted(similarity_scores, key=lambda x: x[1], reverse=True)\n",
        "  most_similar = similarity_scores[1][0]\n",
        "  return most_similar"
      ],
      "metadata": {
        "id": "KCbCGZFWbduO"
      },
      "execution_count": 13,
      "outputs": []
    },
    {
      "cell_type": "code",
      "source": [
        "most_sim = most_similar_doc(0)\n",
        "print(\"most similar document \", most_sim)"
      ],
      "metadata": {
        "colab": {
          "base_uri": "https://localhost:8080/"
        },
        "id": "mq7-rBanbv3P",
        "outputId": "7400382a-8bdd-4434-cc72-81950ebe0032"
      },
      "execution_count": 14,
      "outputs": [
        {
          "output_type": "stream",
          "name": "stdout",
          "text": [
            "most similar document  1\n"
          ]
        }
      ]
    }
  ]
}